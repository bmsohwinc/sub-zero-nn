{
 "cells": [
  {
   "cell_type": "code",
   "execution_count": 68,
   "metadata": {},
   "outputs": [],
   "source": [
    "import numpy as np\n",
    "import pandas as pd\n",
    "import matplotlib.pyplot as plt\n",
    "plt.rcParams['figure.figsize'] = [4, 4]"
   ]
  },
  {
   "cell_type": "markdown",
   "metadata": {},
   "source": [
    "## Intro\n",
    "Let's implement a simple logistic regression algorithm here. The task here is to classify a record as `1` or `0` depending on the record's multiple features.\\\n",
    "Let's load some data where we have 1 feature and a target\n"
   ]
  },
  {
   "cell_type": "code",
   "execution_count": 69,
   "metadata": {},
   "outputs": [],
   "source": [
    "def load_data():\n",
    "    return np.array([\n",
    "        [-4, 0],\n",
    "        [-2.5, 0],\n",
    "        [0, 0],\n",
    "        [2, 1],\n",
    "        [6, 1],\n",
    "        [9, 1]\n",
    "    ])"
   ]
  },
  {
   "cell_type": "code",
   "execution_count": 70,
   "metadata": {},
   "outputs": [
    {
     "name": "stdout",
     "output_type": "stream",
     "text": [
      "(6, 2)\n",
      "[[-4.  -2.5  0.   2.   6.   9. ]] (1, 6)\n",
      "[[0. 0. 0. 1. 1. 1.]] (1, 6)\n"
     ]
    }
   ],
   "source": [
    "df = load_data()\n",
    "print(df.shape)\n",
    "dfx = df[:, 0].reshape(1, 6)\n",
    "dfy = df[:, 1].reshape(1, 6)\n",
    "print(dfx, dfx.shape)\n",
    "print(dfy, dfy.shape)"
   ]
  },
  {
   "cell_type": "markdown",
   "metadata": {},
   "source": [
    "Let's also plot and check how this would look like"
   ]
  },
  {
   "cell_type": "code",
   "execution_count": 71,
   "metadata": {},
   "outputs": [
    {
     "data": {
      "image/png": "[encoded data removed]",
      "text/plain": [
       "<Figure size 400x400 with 1 Axes>"
      ]
     },
     "metadata": {},
     "output_type": "display_data"
    }
   ],
   "source": [
    "plt.plot(dfx[0], dfy[0])\n",
    "plt.show()"
   ]
  },
  {
   "cell_type": "markdown",
   "metadata": {},
   "source": [
    "## Sigmoid function\n",
    "Above graph is similar to a sigmoid graph. So let's try building it."
   ]
  },
  {
   "cell_type": "code",
   "execution_count": 72,
   "metadata": {},
   "outputs": [],
   "source": [
    "def sigmoid(dfz):\n",
    "    return 1 / (1 + np.exp(-dfz))\n"
   ]
  },
  {
   "cell_type": "code",
   "execution_count": 73,
   "metadata": {},
   "outputs": [
    {
     "data": {
      "image/png": "[encoded data removed]",
      "text/plain": [
       "<Figure size 400x400 with 1 Axes>"
      ]
     },
     "metadata": {},
     "output_type": "display_data"
    }
   ],
   "source": [
    "# testing for different values of x\n",
    "x = np.arange(-10, 10, 1)\n",
    "y = sigmoid(x)\n",
    "plt.plot(x, y)\n",
    "plt.show()"
   ]
  },
  {
   "cell_type": "markdown",
   "metadata": {},
   "source": [
    "Good! Let's begin with the actual algorithm.\n",
    "\n",
    "Logistic regression is quite similar to Linear regression, in terms of initial formula.\\\n",
    "Instead of directly using `wx + b`, we use `sigmoid(wx + b)`. And our aim is to estimate these params w and b.\n",
    "\n",
    "Let's write the predict method."
   ]
  },
  {
   "cell_type": "code",
   "execution_count": 79,
   "metadata": {},
   "outputs": [],
   "source": [
    "def predict(dfx, params):\n",
    "    ws = params[:-1]\n",
    "    b = params[-1].reshape(1, 1)\n",
    "    dfz = np.matmul(ws.T, dfx) + b\n",
    "    return sigmoid(dfz) # (sigmoid(dfz) > 0.5) * 1 # Default threshold is 0.5. We can change depending on problem.\n"
   ]
  },
  {
   "cell_type": "code",
   "execution_count": 92,
   "metadata": {},
   "outputs": [],
   "source": [
    "def mle_cost(dfy1, dfh1):\n",
    "    dfy = dfy1[0]\n",
    "    dfh = dfh1[0]\n",
    "    m = dfy1.shape[1]\n",
    "    error = np.dot(dfy, np.log(dfh)) + np.dot(1 - dfy, np.log(1 - dfh))\n",
    "    return (-1 / m) * error"
   ]
  },
  {
   "cell_type": "code",
   "execution_count": 93,
   "metadata": {},
   "outputs": [],
   "source": [
    "def grad_descent(dfx, dfy, dfh, params, alpha):\n",
    "    diff = dfy - dfh\n",
    "    m = dfy.shape[1]\n",
    "    dW = (-1 / m) * np.matmul(dfx, diff.T)\n",
    "    db = (-1 / m) * np.sum(diff)\n",
    "    W = params[: -1]\n",
    "    b = params[-1].reshape(1, 1)\n",
    "    W = W - (alpha * dW)\n",
    "    b = b - (alpha * db)\n",
    "    return np.concatenate((W, b), axis=0)"
   ]
  },
  {
   "cell_type": "code",
   "execution_count": 85,
   "metadata": {},
   "outputs": [],
   "source": [
    "def train(dfx, dfy, params, alpha, runs):\n",
    "    log_lim = runs // 10\n",
    "    train_params = params\n",
    "    train_details = []\n",
    "    for i in range(runs):\n",
    "        dfh = predict(dfx, train_params)\n",
    "        cost = mle_cost(dfy, dfh)\n",
    "        train_details.append({\n",
    "            'cost': cost,\n",
    "            'ws': train_params[:-1],\n",
    "            'b': train_params[-1],\n",
    "            'dfh': dfh\n",
    "        })\n",
    "        if i % log_lim == 0:\n",
    "            print(f'Iteration: #{i + 1}: cost = {cost}, ws = {train_params[:-1]}, b = {train_params[-1]}')\n",
    "        new_params = grad_descent(dfx, dfy, dfh, train_params, alpha)\n",
    "        train_params = new_params\n",
    "    y_cap = predict(dfx, train_params)\n",
    "    cost = mle_cost(dfy, y_cap)\n",
    "    train_details.append({\n",
    "        'cost': cost,\n",
    "        'ws': train_params[:-1],\n",
    "        'b': train_params[-1],\n",
    "        'dfh': y_cap\n",
    "    })\n",
    "    print(f'Training complete. cost = {cost}, ws = {train_params[:-1]}, b = {train_params[-1]}')\n",
    "    return [train_params, train_details]"
   ]
  },
  {
   "cell_type": "code",
   "execution_count": 96,
   "metadata": {},
   "outputs": [
    {
     "name": "stdout",
     "output_type": "stream",
     "text": [
      "Iteration: #1: cost = 0.24807276960435068, ws = [[0.707601]], b = [0.5332727]\n",
      "Iteration: #10001: cost = 0.10828655131185151, ws = [[1.40873303]], b = [-0.31829159]\n",
      "Iteration: #20001: cost = 0.07406109458102647, ws = [[1.70864018]], b = [-0.81627464]\n",
      "Iteration: #30001: cost = 0.05630069418585774, ws = [[1.94485752]], b = [-1.16367002]\n",
      "Iteration: #40001: cost = 0.04529745781262596, ws = [[2.14482082]], b = [-1.42754364]\n",
      "Iteration: #50001: cost = 0.03779319955851647, ws = [[2.3176805]], b = [-1.63960552]\n",
      "Iteration: #60001: cost = 0.032353257747632334, ws = [[2.46913559]], b = [-1.81669219]\n",
      "Iteration: #70001: cost = 0.028236598839134725, ws = [[2.6033757]], b = [-1.96863861]\n",
      "Iteration: #80001: cost = 0.025018783913776238, ws = [[2.72358385]], b = [-2.10164986]\n",
      "Iteration: #90001: cost = 0.022438576442248382, ws = [[2.83220684]], b = [-2.21988514]\n",
      "Training complete. cost = 0.02032635581514334, ws = [[2.93114584]], b = [-2.32626806]\n"
     ]
    }
   ],
   "source": [
    "params = np.random.rand(2, 1) # n X 1 dim\n",
    "train_params, train_details = train(dfx, dfy, params, 0.001, 100000)"
   ]
  },
  {
   "cell_type": "code",
   "execution_count": 97,
   "metadata": {},
   "outputs": [
    {
     "data": {
      "text/plain": [
       "[<matplotlib.lines.Line2D at 0x7fe00d56de70>]"
      ]
     },
     "execution_count": 97,
     "metadata": {},
     "output_type": "execute_result"
    },
    {
     "data": {
      "image/png": "[encoded data removed]",
      "text/plain": [
       "<Figure size 400x400 with 1 Axes>"
      ]
     },
     "metadata": {},
     "output_type": "display_data"
    }
   ],
   "source": [
    "train_costs = [x['cost'] for x in train_details]\n",
    "train_itr = np.arange(0, len(train_costs))\n",
    "plt.plot(train_itr, train_costs)"
   ]
  },
  {
   "cell_type": "markdown",
   "metadata": {},
   "source": [
    "## Test"
   ]
  },
  {
   "cell_type": "code",
   "execution_count": 101,
   "metadata": {},
   "outputs": [
    {
     "data": {
      "image/png": "[encoded data removed]",
      "text/plain": [
       "<Figure size 400x400 with 1 Axes>"
      ]
     },
     "metadata": {},
     "output_type": "display_data"
    }
   ],
   "source": [
    "dftest = np.arange(-20, 20, 1)\n",
    "n = len(dftest)\n",
    "dftest = dftest.reshape(1, n)\n",
    "z = (predict(dftest, train_params) > 0.5) * 1\n",
    "plt.plot(dftest[0], z[0])\n",
    "plt.show()"
   ]
  },
  {
   "cell_type": "markdown",
   "metadata": {},
   "source": [
    "Awesome! Our model is ready for logistic regressions!"
   ]
  },
  {
   "cell_type": "code",
   "execution_count": null,
   "metadata": {},
   "outputs": [],
   "source": []
  }
 ],
 "metadata": {
  "kernelspec": {
   "display_name": "Python 3",
   "language": "python",
   "name": "python3"
  },
  "language_info": {
   "codemirror_mode": {
    "name": "ipython",
    "version": 3
   },
   "file_extension": ".py",
   "mimetype": "text/x-python",
   "name": "python",
   "nbconvert_exporter": "python",
   "pygments_lexer": "ipython3",
   "version": "3.10.6"
  },
  "orig_nbformat": 4
 },
 "nbformat": 4,
 "nbformat_minor": 2
}
